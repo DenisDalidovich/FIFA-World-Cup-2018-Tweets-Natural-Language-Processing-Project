{
 "cells": [
  {
   "cell_type": "markdown",
   "metadata": {},
   "source": [
    "The purpose of this project is to answer the following question. Given a tweet related to a specific topic or event, can we predict how often a tweet is retweeted based on its content?\n",
    "\n",
    "In this project, we will be focusing on the dataset that can be downloaded from:\n",
    "\n",
    "https://www.kaggle.com/rgupta09/world-cup-2018-tweets\n",
    "\n",
    "This dataset is not a part of any Kaggle competitions. It contains the tweets posted during the FIFA World Cup 2018. Our task will be to prepare the data making it suitable for machine learning algorithms and apply a classifier to predict whether a tweet was retweeted at least two times or not. In other words, if  a tweet was retweeted 0 or 1 times, it is considered non-retweeted. The reason behind choosing the threshold equal to 2 is that if a tweet is retweeted 2 or more times, it is likely to be interesting to the broad audience of Twitter users.\n",
    "\n",
    "We show here that including the hashtags of tweets in a separately vectorized form in addition to vectorizing the words of the main text of all tweets, increases the predictive accuracy of the model. We use the ExtraTreesClassifier (extremely randomized trees classifier) from scikit-learn since this algorithm is relatively fast, parallelizable and convenient when dealing with sparse matrices."
   ]
  },
  {
   "cell_type": "markdown",
   "metadata": {},
   "source": [
    " ## Loading, inspecting and extracting the relevant columns"
   ]
  },
  {
   "cell_type": "markdown",
   "metadata": {},
   "source": [
    "Let's first import the necessary modules."
   ]
  },
  {
   "cell_type": "code",
   "execution_count": 1,
   "metadata": {},
   "outputs": [],
   "source": [
    "import numpy as np\n",
    "import pandas as pd\n",
    "\n",
    "import matplotlib.pyplot as plt"
   ]
  },
  {
   "cell_type": "code",
   "execution_count": 2,
   "metadata": {},
   "outputs": [],
   "source": [
    "#import the garbage collection module\n",
    "\n",
    "import gc\n",
    "gc.enable()"
   ]
  },
  {
   "cell_type": "code",
   "execution_count": 3,
   "metadata": {},
   "outputs": [],
   "source": [
    "df = pd.read_csv('FIFA.csv')"
   ]
  },
  {
   "cell_type": "code",
   "execution_count": 4,
   "metadata": {},
   "outputs": [
    {
     "name": "stdout",
     "output_type": "stream",
     "text": [
      "<class 'pandas.core.frame.DataFrame'>\n",
      "RangeIndex: 530000 entries, 0 to 529999\n",
      "Data columns (total 16 columns):\n",
      "ID                  530000 non-null int64\n",
      "lang                530000 non-null object\n",
      "Date                530000 non-null object\n",
      "Source              530000 non-null object\n",
      "len                 530000 non-null int64\n",
      "Orig_Tweet          530000 non-null object\n",
      "Tweet               529449 non-null object\n",
      "Likes               530000 non-null int64\n",
      "RTs                 530000 non-null int64\n",
      "Hashtags            468457 non-null object\n",
      "UserMentionNames    455841 non-null object\n",
      "UserMentionID       455841 non-null object\n",
      "Name                529945 non-null object\n",
      "Place               390710 non-null object\n",
      "Followers           530000 non-null int64\n",
      "Friends             530000 non-null int64\n",
      "dtypes: int64(6), object(10)\n",
      "memory usage: 64.7+ MB\n"
     ]
    }
   ],
   "source": [
    "df.info()"
   ]
  },
  {
   "cell_type": "markdown",
   "metadata": {},
   "source": [
    "We see that our dataset contains 530000 tweets of various lengths and content. The complete meanings of the columns can be found on the webpage from which the dataset was downloaded. Let's briefly reiterate what the dataset is about. First of all it contains the column 'Orig_Tweet' which is the tweet in its original form as well as the column 'Tweet' which is a cleaned tweet. The dataset also contains a tweet id 'ID', language of a tweet 'lang', date when a tweet was posted 'Date', device using which a tweet was created 'Source', the length of a tweet 'len', the number of likes 'Likes', the number of retweets 'RTs', the list of hashtags 'Hashtags', the columns with user mentioned names and user mention ids, name and place of the person who posted a tweet as well as the number of his followers and friends."
   ]
  },
  {
   "cell_type": "code",
   "execution_count": 5,
   "metadata": {},
   "outputs": [
    {
     "data": {
      "text/html": [
       "<div>\n",
       "<style scoped>\n",
       "    .dataframe tbody tr th:only-of-type {\n",
       "        vertical-align: middle;\n",
       "    }\n",
       "\n",
       "    .dataframe tbody tr th {\n",
       "        vertical-align: top;\n",
       "    }\n",
       "\n",
       "    .dataframe thead th {\n",
       "        text-align: right;\n",
       "    }\n",
       "</style>\n",
       "<table border=\"1\" class=\"dataframe\">\n",
       "  <thead>\n",
       "    <tr style=\"text-align: right;\">\n",
       "      <th></th>\n",
       "      <th>ID</th>\n",
       "      <th>lang</th>\n",
       "      <th>Date</th>\n",
       "      <th>Source</th>\n",
       "      <th>len</th>\n",
       "      <th>Orig_Tweet</th>\n",
       "      <th>Tweet</th>\n",
       "      <th>Likes</th>\n",
       "      <th>RTs</th>\n",
       "      <th>Hashtags</th>\n",
       "      <th>UserMentionNames</th>\n",
       "      <th>UserMentionID</th>\n",
       "      <th>Name</th>\n",
       "      <th>Place</th>\n",
       "      <th>Followers</th>\n",
       "      <th>Friends</th>\n",
       "    </tr>\n",
       "  </thead>\n",
       "  <tbody>\n",
       "    <tr>\n",
       "      <th>0</th>\n",
       "      <td>1013597060640145408</td>\n",
       "      <td>en</td>\n",
       "      <td>2018-07-02 01:35:45</td>\n",
       "      <td>Twitter for Android</td>\n",
       "      <td>140</td>\n",
       "      <td>RT @Squawka: Only two goalkeepers have saved t...</td>\n",
       "      <td>Only two goalkeepers have saved three penaltie...</td>\n",
       "      <td>0</td>\n",
       "      <td>477</td>\n",
       "      <td>WorldCup,POR,ENG</td>\n",
       "      <td>Squawka Football</td>\n",
       "      <td>Squawka</td>\n",
       "      <td>Cayleb</td>\n",
       "      <td>Accra</td>\n",
       "      <td>861</td>\n",
       "      <td>828</td>\n",
       "    </tr>\n",
       "    <tr>\n",
       "      <th>1</th>\n",
       "      <td>1013597056219295744</td>\n",
       "      <td>en</td>\n",
       "      <td>2018-07-02 01:35:44</td>\n",
       "      <td>Twitter for Android</td>\n",
       "      <td>139</td>\n",
       "      <td>RT @FCBarcelona: ?? @ivanrakitic scores the wi...</td>\n",
       "      <td>scores the winning penalty to send into the qu...</td>\n",
       "      <td>0</td>\n",
       "      <td>1031</td>\n",
       "      <td>WorldCup</td>\n",
       "      <td>FC Barcelona,Ivan Rakitic,HNS | CFF</td>\n",
       "      <td>FCBarcelona,ivanrakitic,HNS_CFF</td>\n",
       "      <td>Febri Aditya</td>\n",
       "      <td>Bogor</td>\n",
       "      <td>667</td>\n",
       "      <td>686</td>\n",
       "    </tr>\n",
       "    <tr>\n",
       "      <th>2</th>\n",
       "      <td>1013597047482544130</td>\n",
       "      <td>en</td>\n",
       "      <td>2018-07-02 01:35:42</td>\n",
       "      <td>Twitter for Android</td>\n",
       "      <td>107</td>\n",
       "      <td>RT @javierfernandez: Tonight we have big game....</td>\n",
       "      <td>Tonight we have big game</td>\n",
       "      <td>0</td>\n",
       "      <td>488</td>\n",
       "      <td>worldcup</td>\n",
       "      <td>Javier Fernandez,Evgeni Plushenko</td>\n",
       "      <td>javierfernandez,EvgeniPlushenko</td>\n",
       "      <td>??</td>\n",
       "      <td>NaN</td>\n",
       "      <td>65</td>\n",
       "      <td>67</td>\n",
       "    </tr>\n",
       "    <tr>\n",
       "      <th>3</th>\n",
       "      <td>1013597044198391808</td>\n",
       "      <td>en</td>\n",
       "      <td>2018-07-02 01:35:41</td>\n",
       "      <td>Twitter Web Client</td>\n",
       "      <td>142</td>\n",
       "      <td>We get stronger\\r\\nTurn the music up now\\r\\nWe...</td>\n",
       "      <td>We get stronger Turn the music up now We got t...</td>\n",
       "      <td>0</td>\n",
       "      <td>0</td>\n",
       "      <td>PowerByEXO,WorldCup,FIFAStadiumDJ,XiuminLeague</td>\n",
       "      <td>EXO,FIFA World Cup ?</td>\n",
       "      <td>weareoneEXO,FIFAWorldCup</td>\n",
       "      <td>Frida Carrillo</td>\n",
       "      <td>Zapopan, Jalisco</td>\n",
       "      <td>17</td>\n",
       "      <td>89</td>\n",
       "    </tr>\n",
       "    <tr>\n",
       "      <th>4</th>\n",
       "      <td>1013597039999926272</td>\n",
       "      <td>en</td>\n",
       "      <td>2018-07-02 01:35:40</td>\n",
       "      <td>Twitter for Android</td>\n",
       "      <td>140</td>\n",
       "      <td>RT @Squawka: Only two goalkeepers have saved t...</td>\n",
       "      <td>Only two goalkeepers have saved three penaltie...</td>\n",
       "      <td>0</td>\n",
       "      <td>477</td>\n",
       "      <td>WorldCup,POR,ENG</td>\n",
       "      <td>Squawka Football</td>\n",
       "      <td>Squawka</td>\n",
       "      <td>tar</td>\n",
       "      <td>NaN</td>\n",
       "      <td>137</td>\n",
       "      <td>216</td>\n",
       "    </tr>\n",
       "    <tr>\n",
       "      <th>5</th>\n",
       "      <td>1013597039995867143</td>\n",
       "      <td>en</td>\n",
       "      <td>2018-07-02 01:35:40</td>\n",
       "      <td>Twitter for Android</td>\n",
       "      <td>140</td>\n",
       "      <td>RT @FIFAWorldCup: \"We’re looking strong going ...</td>\n",
       "      <td>We re looking strong going into the knockout s...</td>\n",
       "      <td>0</td>\n",
       "      <td>153</td>\n",
       "      <td>BRAMEX</td>\n",
       "      <td>FIFA World Cup ?,CBF Futebol,Casemiro</td>\n",
       "      <td>FIFAWorldCup,CBF_Futebol,Casemiro</td>\n",
       "      <td>Ligefut</td>\n",
       "      <td>NaN</td>\n",
       "      <td>29</td>\n",
       "      <td>283</td>\n",
       "    </tr>\n",
       "    <tr>\n",
       "      <th>6</th>\n",
       "      <td>1013597039978995712</td>\n",
       "      <td>en</td>\n",
       "      <td>2018-07-02 01:35:40</td>\n",
       "      <td>Twitter for iPhone</td>\n",
       "      <td>140</td>\n",
       "      <td>RT @ShShShShShSh555: I'm happy for #Russia win...</td>\n",
       "      <td>am happy for winning Especially since you know...</td>\n",
       "      <td>0</td>\n",
       "      <td>4</td>\n",
       "      <td>Russia</td>\n",
       "      <td>V?Deplorable?45  ??</td>\n",
       "      <td>ShShShShShSh555</td>\n",
       "      <td>?a?????</td>\n",
       "      <td>Mount Olympus</td>\n",
       "      <td>208</td>\n",
       "      <td>338</td>\n",
       "    </tr>\n",
       "    <tr>\n",
       "      <th>7</th>\n",
       "      <td>1013597038951436288</td>\n",
       "      <td>en</td>\n",
       "      <td>2018-07-02 01:35:40</td>\n",
       "      <td>Twitter Web Client</td>\n",
       "      <td>138</td>\n",
       "      <td>RT @FridaCarrillo05: When you see me\\r\\nWhen w...</td>\n",
       "      <td>When you see me When we feel the same feeling ...</td>\n",
       "      <td>0</td>\n",
       "      <td>1</td>\n",
       "      <td>PowerByEXO,WorldCup,FIFAStadiumDJ,XiuminLeague</td>\n",
       "      <td>Frida Carrillo</td>\n",
       "      <td>FridaCarrillo05</td>\n",
       "      <td>STAN LEGENDS, STAN EXO</td>\n",
       "      <td>Lima, Peru</td>\n",
       "      <td>7</td>\n",
       "      <td>9</td>\n",
       "    </tr>\n",
       "    <tr>\n",
       "      <th>8</th>\n",
       "      <td>1013597038188154880</td>\n",
       "      <td>en</td>\n",
       "      <td>2018-07-02 01:35:40</td>\n",
       "      <td>Twitter for Android</td>\n",
       "      <td>138</td>\n",
       "      <td>RT @FIFAWorldCup: Kasper Schmeichel takes the ...</td>\n",
       "      <td>Kasper Schmeichel takes the final award of the...</td>\n",
       "      <td>0</td>\n",
       "      <td>2199</td>\n",
       "      <td>ManoftheMatch,CRODEN,WorldCup</td>\n",
       "      <td>FIFA World Cup ?,Budweiser</td>\n",
       "      <td>FIFAWorldCup,Budweiser</td>\n",
       "      <td>Sky Ler</td>\n",
       "      <td>NaN</td>\n",
       "      <td>1</td>\n",
       "      <td>6</td>\n",
       "    </tr>\n",
       "    <tr>\n",
       "      <th>9</th>\n",
       "      <td>1013597037118525440</td>\n",
       "      <td>en</td>\n",
       "      <td>2018-07-02 01:35:40</td>\n",
       "      <td>Twitter Lite</td>\n",
       "      <td>139</td>\n",
       "      <td>RT @BTSARMYNA: .@BTS_twt After 5 Years\\r\\n1. G...</td>\n",
       "      <td>After Years Global Puma Ambassador LG Mobile A...</td>\n",
       "      <td>0</td>\n",
       "      <td>5146</td>\n",
       "      <td>NaN</td>\n",
       "      <td>???? &amp; ???? ???? ™ ??,?????</td>\n",
       "      <td>BTSARMYNA,BTS_twt</td>\n",
       "      <td>Kate</td>\n",
       "      <td>Meme City</td>\n",
       "      <td>158</td>\n",
       "      <td>245</td>\n",
       "    </tr>\n",
       "  </tbody>\n",
       "</table>\n",
       "</div>"
      ],
      "text/plain": [
       "                    ID lang                 Date               Source  len  \\\n",
       "0  1013597060640145408   en  2018-07-02 01:35:45  Twitter for Android  140   \n",
       "1  1013597056219295744   en  2018-07-02 01:35:44  Twitter for Android  139   \n",
       "2  1013597047482544130   en  2018-07-02 01:35:42  Twitter for Android  107   \n",
       "3  1013597044198391808   en  2018-07-02 01:35:41   Twitter Web Client  142   \n",
       "4  1013597039999926272   en  2018-07-02 01:35:40  Twitter for Android  140   \n",
       "5  1013597039995867143   en  2018-07-02 01:35:40  Twitter for Android  140   \n",
       "6  1013597039978995712   en  2018-07-02 01:35:40   Twitter for iPhone  140   \n",
       "7  1013597038951436288   en  2018-07-02 01:35:40   Twitter Web Client  138   \n",
       "8  1013597038188154880   en  2018-07-02 01:35:40  Twitter for Android  138   \n",
       "9  1013597037118525440   en  2018-07-02 01:35:40         Twitter Lite  139   \n",
       "\n",
       "                                          Orig_Tweet  \\\n",
       "0  RT @Squawka: Only two goalkeepers have saved t...   \n",
       "1  RT @FCBarcelona: ?? @ivanrakitic scores the wi...   \n",
       "2  RT @javierfernandez: Tonight we have big game....   \n",
       "3  We get stronger\\r\\nTurn the music up now\\r\\nWe...   \n",
       "4  RT @Squawka: Only two goalkeepers have saved t...   \n",
       "5  RT @FIFAWorldCup: \"We’re looking strong going ...   \n",
       "6  RT @ShShShShShSh555: I'm happy for #Russia win...   \n",
       "7  RT @FridaCarrillo05: When you see me\\r\\nWhen w...   \n",
       "8  RT @FIFAWorldCup: Kasper Schmeichel takes the ...   \n",
       "9  RT @BTSARMYNA: .@BTS_twt After 5 Years\\r\\n1. G...   \n",
       "\n",
       "                                               Tweet  Likes   RTs  \\\n",
       "0  Only two goalkeepers have saved three penaltie...      0   477   \n",
       "1  scores the winning penalty to send into the qu...      0  1031   \n",
       "2                           Tonight we have big game      0   488   \n",
       "3  We get stronger Turn the music up now We got t...      0     0   \n",
       "4  Only two goalkeepers have saved three penaltie...      0   477   \n",
       "5  We re looking strong going into the knockout s...      0   153   \n",
       "6  am happy for winning Especially since you know...      0     4   \n",
       "7  When you see me When we feel the same feeling ...      0     1   \n",
       "8  Kasper Schmeichel takes the final award of the...      0  2199   \n",
       "9  After Years Global Puma Ambassador LG Mobile A...      0  5146   \n",
       "\n",
       "                                         Hashtags  \\\n",
       "0                                WorldCup,POR,ENG   \n",
       "1                                        WorldCup   \n",
       "2                                        worldcup   \n",
       "3  PowerByEXO,WorldCup,FIFAStadiumDJ,XiuminLeague   \n",
       "4                                WorldCup,POR,ENG   \n",
       "5                                          BRAMEX   \n",
       "6                                          Russia   \n",
       "7  PowerByEXO,WorldCup,FIFAStadiumDJ,XiuminLeague   \n",
       "8                   ManoftheMatch,CRODEN,WorldCup   \n",
       "9                                             NaN   \n",
       "\n",
       "                        UserMentionNames                      UserMentionID  \\\n",
       "0                       Squawka Football                            Squawka   \n",
       "1    FC Barcelona,Ivan Rakitic,HNS | CFF    FCBarcelona,ivanrakitic,HNS_CFF   \n",
       "2      Javier Fernandez,Evgeni Plushenko    javierfernandez,EvgeniPlushenko   \n",
       "3                   EXO,FIFA World Cup ?           weareoneEXO,FIFAWorldCup   \n",
       "4                       Squawka Football                            Squawka   \n",
       "5  FIFA World Cup ?,CBF Futebol,Casemiro  FIFAWorldCup,CBF_Futebol,Casemiro   \n",
       "6                    V?Deplorable?45  ??                    ShShShShShSh555   \n",
       "7                         Frida Carrillo                    FridaCarrillo05   \n",
       "8             FIFA World Cup ?,Budweiser             FIFAWorldCup,Budweiser   \n",
       "9            ???? & ???? ???? ™ ??,?????                  BTSARMYNA,BTS_twt   \n",
       "\n",
       "                     Name             Place  Followers  Friends  \n",
       "0                  Cayleb             Accra        861      828  \n",
       "1            Febri Aditya             Bogor        667      686  \n",
       "2                      ??               NaN         65       67  \n",
       "3          Frida Carrillo  Zapopan, Jalisco         17       89  \n",
       "4                     tar               NaN        137      216  \n",
       "5                 Ligefut               NaN         29      283  \n",
       "6                 ?a?????    Mount Olympus         208      338  \n",
       "7  STAN LEGENDS, STAN EXO        Lima, Peru          7        9  \n",
       "8                 Sky Ler               NaN          1        6  \n",
       "9                    Kate        Meme City         158      245  "
      ]
     },
     "execution_count": 5,
     "metadata": {},
     "output_type": "execute_result"
    }
   ],
   "source": [
    "df.head(10)"
   ]
  },
  {
   "cell_type": "markdown",
   "metadata": {},
   "source": [
    "We see that all the tweets are in English."
   ]
  },
  {
   "cell_type": "code",
   "execution_count": 6,
   "metadata": {},
   "outputs": [
    {
     "data": {
      "text/plain": [
       "en    530000\n",
       "Name: lang, dtype: int64"
      ]
     },
     "execution_count": 6,
     "metadata": {},
     "output_type": "execute_result"
    }
   ],
   "source": [
    "df.lang.value_counts()"
   ]
  },
  {
   "cell_type": "markdown",
   "metadata": {},
   "source": [
    "For the purposes of predictive modeling, we remove the 'ID', 'Date', 'Name', 'Place', 'UserMentionNames', 'UserMentionID' as well as 'lang' column given that all the tweets are in English. We will also remove the 'Source' (using which a retweet was made) column as a feature that is not relevant for the textual data. In other words, we remove everything that is related to a user rather than the tweets' content. "
   ]
  },
  {
   "cell_type": "code",
   "execution_count": 7,
   "metadata": {},
   "outputs": [
    {
     "name": "stdout",
     "output_type": "stream",
     "text": [
      "<class 'pandas.core.frame.DataFrame'>\n",
      "RangeIndex: 530000 entries, 0 to 529999\n",
      "Data columns (total 8 columns):\n",
      "len           530000 non-null int64\n",
      "Orig_Tweet    530000 non-null object\n",
      "Tweet         529449 non-null object\n",
      "Likes         530000 non-null int64\n",
      "RTs           530000 non-null int64\n",
      "Hashtags      468457 non-null object\n",
      "Followers     530000 non-null int64\n",
      "Friends       530000 non-null int64\n",
      "dtypes: int64(5), object(3)\n",
      "memory usage: 32.3+ MB\n"
     ]
    }
   ],
   "source": [
    "df.drop(['ID', 'Date', 'Name', 'Place','UserMentionID', 'UserMentionNames',\n",
    "         'lang', 'Source'], axis =1, inplace = True)\n",
    "\n",
    "df.info()"
   ]
  },
  {
   "cell_type": "markdown",
   "metadata": {},
   "source": [
    "Looking at the correlation between numerical columns, we see that the number of retweets 'RTs' is almost uncorrelated with other numerical columns. It is interesting to note that the number of likes is somewhat correlated with the number of followers. "
   ]
  },
  {
   "cell_type": "code",
   "execution_count": 8,
   "metadata": {},
   "outputs": [
    {
     "data": {
      "text/html": [
       "<div>\n",
       "<style scoped>\n",
       "    .dataframe tbody tr th:only-of-type {\n",
       "        vertical-align: middle;\n",
       "    }\n",
       "\n",
       "    .dataframe tbody tr th {\n",
       "        vertical-align: top;\n",
       "    }\n",
       "\n",
       "    .dataframe thead th {\n",
       "        text-align: right;\n",
       "    }\n",
       "</style>\n",
       "<table border=\"1\" class=\"dataframe\">\n",
       "  <thead>\n",
       "    <tr style=\"text-align: right;\">\n",
       "      <th></th>\n",
       "      <th>len</th>\n",
       "      <th>Likes</th>\n",
       "      <th>RTs</th>\n",
       "      <th>Followers</th>\n",
       "      <th>Friends</th>\n",
       "    </tr>\n",
       "  </thead>\n",
       "  <tbody>\n",
       "    <tr>\n",
       "      <th>len</th>\n",
       "      <td>1.000000</td>\n",
       "      <td>0.002834</td>\n",
       "      <td>0.060993</td>\n",
       "      <td>0.012815</td>\n",
       "      <td>0.024858</td>\n",
       "    </tr>\n",
       "    <tr>\n",
       "      <th>Likes</th>\n",
       "      <td>0.002834</td>\n",
       "      <td>1.000000</td>\n",
       "      <td>-0.004365</td>\n",
       "      <td>0.237121</td>\n",
       "      <td>0.012415</td>\n",
       "    </tr>\n",
       "    <tr>\n",
       "      <th>RTs</th>\n",
       "      <td>0.060993</td>\n",
       "      <td>-0.004365</td>\n",
       "      <td>1.000000</td>\n",
       "      <td>-0.011836</td>\n",
       "      <td>-0.020850</td>\n",
       "    </tr>\n",
       "    <tr>\n",
       "      <th>Followers</th>\n",
       "      <td>0.012815</td>\n",
       "      <td>0.237121</td>\n",
       "      <td>-0.011836</td>\n",
       "      <td>1.000000</td>\n",
       "      <td>0.037608</td>\n",
       "    </tr>\n",
       "    <tr>\n",
       "      <th>Friends</th>\n",
       "      <td>0.024858</td>\n",
       "      <td>0.012415</td>\n",
       "      <td>-0.020850</td>\n",
       "      <td>0.037608</td>\n",
       "      <td>1.000000</td>\n",
       "    </tr>\n",
       "  </tbody>\n",
       "</table>\n",
       "</div>"
      ],
      "text/plain": [
       "                len     Likes       RTs  Followers   Friends\n",
       "len        1.000000  0.002834  0.060993   0.012815  0.024858\n",
       "Likes      0.002834  1.000000 -0.004365   0.237121  0.012415\n",
       "RTs        0.060993 -0.004365  1.000000  -0.011836 -0.020850\n",
       "Followers  0.012815  0.237121 -0.011836   1.000000  0.037608\n",
       "Friends    0.024858  0.012415 -0.020850   0.037608  1.000000"
      ]
     },
     "execution_count": 8,
     "metadata": {},
     "output_type": "execute_result"
    }
   ],
   "source": [
    "df.corr()"
   ]
  },
  {
   "cell_type": "markdown",
   "metadata": {},
   "source": [
    "We will drop the 'len', 'Likes', 'Followers' and 'Friends' columns as well not only because they are uninformative, but also because they do not serve the main purpose of the task which is to make a prediction based of the text of a tweet and relevant hashtags."
   ]
  },
  {
   "cell_type": "code",
   "execution_count": 9,
   "metadata": {},
   "outputs": [
    {
     "name": "stdout",
     "output_type": "stream",
     "text": [
      "<class 'pandas.core.frame.DataFrame'>\n",
      "RangeIndex: 530000 entries, 0 to 529999\n",
      "Data columns (total 4 columns):\n",
      "Orig_Tweet    530000 non-null object\n",
      "Tweet         529449 non-null object\n",
      "RTs           530000 non-null int64\n",
      "Hashtags      468457 non-null object\n",
      "dtypes: int64(1), object(3)\n",
      "memory usage: 16.2+ MB\n"
     ]
    }
   ],
   "source": [
    "df.drop(['len', 'Likes', 'Followers', 'Friends'], axis =1, inplace = True)\n",
    "\n",
    "df.info()"
   ]
  },
  {
   "cell_type": "code",
   "execution_count": 10,
   "metadata": {},
   "outputs": [
    {
     "data": {
      "text/plain": [
       "47"
      ]
     },
     "execution_count": 10,
     "metadata": {},
     "output_type": "execute_result"
    }
   ],
   "source": [
    "gc.collect()"
   ]
  },
  {
   "cell_type": "markdown",
   "metadata": {},
   "source": [
    "Then, we see that after cleaning the original tweets according to the rules of the databese provider, some cleaned tweets became empty. Our purpose is to do our own text cleaning and  preprocessing. Thus we drop the 'Tweet' column that contains the cleaned tweets. Quite many tweets do not contain any hashtags, and this is absolutely normal."
   ]
  },
  {
   "cell_type": "code",
   "execution_count": 11,
   "metadata": {},
   "outputs": [
    {
     "name": "stdout",
     "output_type": "stream",
     "text": [
      "<class 'pandas.core.frame.DataFrame'>\n",
      "RangeIndex: 530000 entries, 0 to 529999\n",
      "Data columns (total 3 columns):\n",
      "Orig_Tweet    530000 non-null object\n",
      "RTs           530000 non-null int64\n",
      "Hashtags      468457 non-null object\n",
      "dtypes: int64(1), object(2)\n",
      "memory usage: 12.1+ MB\n"
     ]
    }
   ],
   "source": [
    "df.drop(['Tweet'], axis =1, inplace = True)\n",
    "\n",
    "df.info()"
   ]
  },
  {
   "cell_type": "code",
   "execution_count": 12,
   "metadata": {},
   "outputs": [
    {
     "data": {
      "text/html": [
       "<div>\n",
       "<style scoped>\n",
       "    .dataframe tbody tr th:only-of-type {\n",
       "        vertical-align: middle;\n",
       "    }\n",
       "\n",
       "    .dataframe tbody tr th {\n",
       "        vertical-align: top;\n",
       "    }\n",
       "\n",
       "    .dataframe thead th {\n",
       "        text-align: right;\n",
       "    }\n",
       "</style>\n",
       "<table border=\"1\" class=\"dataframe\">\n",
       "  <thead>\n",
       "    <tr style=\"text-align: right;\">\n",
       "      <th></th>\n",
       "      <th>Orig_Tweet</th>\n",
       "      <th>RTs</th>\n",
       "      <th>Hashtags</th>\n",
       "    </tr>\n",
       "  </thead>\n",
       "  <tbody>\n",
       "    <tr>\n",
       "      <th>9</th>\n",
       "      <td>RT @BTSARMYNA: .@BTS_twt After 5 Years\\r\\n1. G...</td>\n",
       "      <td>5146</td>\n",
       "      <td>NaN</td>\n",
       "    </tr>\n",
       "    <tr>\n",
       "      <th>14</th>\n",
       "      <td>RT @IanStaffs: Just worked out that if England...</td>\n",
       "      <td>7</td>\n",
       "      <td>NaN</td>\n",
       "    </tr>\n",
       "    <tr>\n",
       "      <th>15</th>\n",
       "      <td>RT @CCFCFan1927: People getting rightly excite...</td>\n",
       "      <td>6889</td>\n",
       "      <td>NaN</td>\n",
       "    </tr>\n",
       "    <tr>\n",
       "      <th>17</th>\n",
       "      <td>RT @Onyema_Donald: ?? Edinson Cavani for Napol...</td>\n",
       "      <td>70</td>\n",
       "      <td>NaN</td>\n",
       "    </tr>\n",
       "    <tr>\n",
       "      <th>18</th>\n",
       "      <td>RT @FIFAWorldCup: ?? | \"Japan have never made ...</td>\n",
       "      <td>219</td>\n",
       "      <td>NaN</td>\n",
       "    </tr>\n",
       "    <tr>\n",
       "      <th>...</th>\n",
       "      <td>...</td>\n",
       "      <td>...</td>\n",
       "      <td>...</td>\n",
       "    </tr>\n",
       "    <tr>\n",
       "      <th>529964</th>\n",
       "      <td>RT @NOTSportsCenter: BREAKING: The Golden Stat...</td>\n",
       "      <td>848</td>\n",
       "      <td>NaN</td>\n",
       "    </tr>\n",
       "    <tr>\n",
       "      <th>529966</th>\n",
       "      <td>RT @FEMENSWE: PUSSY RIOT\\r\\n1.    Let all poli...</td>\n",
       "      <td>9</td>\n",
       "      <td>NaN</td>\n",
       "    </tr>\n",
       "    <tr>\n",
       "      <th>529968</th>\n",
       "      <td>RT @K_SUPREME_ZA: Please guys please please he...</td>\n",
       "      <td>87</td>\n",
       "      <td>NaN</td>\n",
       "    </tr>\n",
       "    <tr>\n",
       "      <th>529970</th>\n",
       "      <td>RT @FourFourTweet: According to various report...</td>\n",
       "      <td>1308</td>\n",
       "      <td>NaN</td>\n",
       "    </tr>\n",
       "    <tr>\n",
       "      <th>529985</th>\n",
       "      <td>RT @Sporf: ? Ronaldo's Hattrick\\r\\n\\r\\n?? Germ...</td>\n",
       "      <td>1138</td>\n",
       "      <td>NaN</td>\n",
       "    </tr>\n",
       "  </tbody>\n",
       "</table>\n",
       "<p>61543 rows × 3 columns</p>\n",
       "</div>"
      ],
      "text/plain": [
       "                                               Orig_Tweet   RTs Hashtags\n",
       "9       RT @BTSARMYNA: .@BTS_twt After 5 Years\\r\\n1. G...  5146      NaN\n",
       "14      RT @IanStaffs: Just worked out that if England...     7      NaN\n",
       "15      RT @CCFCFan1927: People getting rightly excite...  6889      NaN\n",
       "17      RT @Onyema_Donald: ?? Edinson Cavani for Napol...    70      NaN\n",
       "18      RT @FIFAWorldCup: ?? | \"Japan have never made ...   219      NaN\n",
       "...                                                   ...   ...      ...\n",
       "529964  RT @NOTSportsCenter: BREAKING: The Golden Stat...   848      NaN\n",
       "529966  RT @FEMENSWE: PUSSY RIOT\\r\\n1.    Let all poli...     9      NaN\n",
       "529968  RT @K_SUPREME_ZA: Please guys please please he...    87      NaN\n",
       "529970  RT @FourFourTweet: According to various report...  1308      NaN\n",
       "529985  RT @Sporf: ? Ronaldo's Hattrick\\r\\n\\r\\n?? Germ...  1138      NaN\n",
       "\n",
       "[61543 rows x 3 columns]"
      ]
     },
     "execution_count": 12,
     "metadata": {},
     "output_type": "execute_result"
    }
   ],
   "source": [
    "df[df['Hashtags'].isnull()]"
   ]
  },
  {
   "cell_type": "markdown",
   "metadata": {},
   "source": [
    "## Exploratory Data Analysis and further preprocessing"
   ]
  },
  {
   "cell_type": "markdown",
   "metadata": {},
   "source": [
    "First of all, we substitute the absent hashtags with the word 'nohashtags'."
   ]
  },
  {
   "cell_type": "code",
   "execution_count": 13,
   "metadata": {},
   "outputs": [],
   "source": [
    "df['Hashtags'] = df['Hashtags'].fillna('nohashtags')\n",
    "\n",
    "#df.isnull().sum()"
   ]
  },
  {
   "cell_type": "markdown",
   "metadata": {},
   "source": [
    "Second, we notice that are only 133390 unique original tweets, and 37140 unique combinations of hashtags. This means that the same tweet may have been retweeted many times from different places. "
   ]
  },
  {
   "cell_type": "code",
   "execution_count": 14,
   "metadata": {},
   "outputs": [
    {
     "data": {
      "text/plain": [
       "Orig_Tweet    133390\n",
       "Hashtags       37140\n",
       "dtype: int64"
      ]
     },
     "execution_count": 14,
     "metadata": {},
     "output_type": "execute_result"
    }
   ],
   "source": [
    "df[['Orig_Tweet', 'Hashtags']].nunique()"
   ]
  },
  {
   "cell_type": "markdown",
   "metadata": {},
   "source": [
    "We will group by the unique combinations of original tweets and hashtags and average over all the numbers of retweets. This is to ensure that the retweet by a given user is counted exactly once.\n",
    "After that, we are left with 133390 unique entries."
   ]
  },
  {
   "cell_type": "code",
   "execution_count": 15,
   "metadata": {},
   "outputs": [
    {
     "data": {
      "text/html": [
       "<div>\n",
       "<style scoped>\n",
       "    .dataframe tbody tr th:only-of-type {\n",
       "        vertical-align: middle;\n",
       "    }\n",
       "\n",
       "    .dataframe tbody tr th {\n",
       "        vertical-align: top;\n",
       "    }\n",
       "\n",
       "    .dataframe thead th {\n",
       "        text-align: right;\n",
       "    }\n",
       "</style>\n",
       "<table border=\"1\" class=\"dataframe\">\n",
       "  <thead>\n",
       "    <tr style=\"text-align: right;\">\n",
       "      <th></th>\n",
       "      <th>Orig_Tweet</th>\n",
       "      <th>Hashtags</th>\n",
       "      <th>RTs</th>\n",
       "    </tr>\n",
       "  </thead>\n",
       "  <tbody>\n",
       "    <tr>\n",
       "      <th>0</th>\n",
       "      <td>!!! BIG FINAL !!!\\r\\nFIFA WORLD CUP RUSSIA 201...</td>\n",
       "      <td>fifaworldcup2018,FRNvsCRO,france,vs,croatia,fi...</td>\n",
       "      <td>0</td>\n",
       "    </tr>\n",
       "    <tr>\n",
       "      <th>1</th>\n",
       "      <td>!!! Give away time !!!!\\r\\nWe are giving away ...</td>\n",
       "      <td>irishgnt,russells,oldcarrickmill,Competition,g...</td>\n",
       "      <td>1</td>\n",
       "    </tr>\n",
       "    <tr>\n",
       "      <th>2</th>\n",
       "      <td>!!#WorldCup Pre-Match TIP!!\\r\\n(A Penalty in t...</td>\n",
       "      <td>WorldCup,Bet,Football,Tip,BEL,FRA</td>\n",
       "      <td>0</td>\n",
       "    </tr>\n",
       "    <tr>\n",
       "      <th>3</th>\n",
       "      <td>!!#WorldCup TIP!! @bet365 #BetBuilder\\r\\n(Over...</td>\n",
       "      <td>WorldCup,BetBuilder,Bet,Football,Tip,FRA,BEL</td>\n",
       "      <td>0</td>\n",
       "    </tr>\n",
       "    <tr>\n",
       "      <th>4</th>\n",
       "      <td>!![##LIVE STREAM##]#+=&amp;gt; France vs,. Belgium...</td>\n",
       "      <td>LIVE,WorldCup</td>\n",
       "      <td>0</td>\n",
       "    </tr>\n",
       "  </tbody>\n",
       "</table>\n",
       "</div>"
      ],
      "text/plain": [
       "                                          Orig_Tweet  \\\n",
       "0  !!! BIG FINAL !!!\\r\\nFIFA WORLD CUP RUSSIA 201...   \n",
       "1  !!! Give away time !!!!\\r\\nWe are giving away ...   \n",
       "2  !!#WorldCup Pre-Match TIP!!\\r\\n(A Penalty in t...   \n",
       "3  !!#WorldCup TIP!! @bet365 #BetBuilder\\r\\n(Over...   \n",
       "4  !![##LIVE STREAM##]#+=&gt; France vs,. Belgium...   \n",
       "\n",
       "                                            Hashtags  RTs  \n",
       "0  fifaworldcup2018,FRNvsCRO,france,vs,croatia,fi...    0  \n",
       "1  irishgnt,russells,oldcarrickmill,Competition,g...    1  \n",
       "2                  WorldCup,Bet,Football,Tip,BEL,FRA    0  \n",
       "3       WorldCup,BetBuilder,Bet,Football,Tip,FRA,BEL    0  \n",
       "4                                      LIVE,WorldCup    0  "
      ]
     },
     "execution_count": 15,
     "metadata": {},
     "output_type": "execute_result"
    }
   ],
   "source": [
    "df = df.groupby(['Orig_Tweet', 'Hashtags']).mean().reset_index()\n",
    "\n",
    "df['RTs'] = df['RTs'].astype(np.int64)\n",
    "\n",
    "df.head()"
   ]
  },
  {
   "cell_type": "code",
   "execution_count": 16,
   "metadata": {},
   "outputs": [
    {
     "name": "stdout",
     "output_type": "stream",
     "text": [
      "<class 'pandas.core.frame.DataFrame'>\n",
      "RangeIndex: 133390 entries, 0 to 133389\n",
      "Data columns (total 3 columns):\n",
      "Orig_Tweet    133390 non-null object\n",
      "Hashtags      133390 non-null object\n",
      "RTs           133390 non-null int64\n",
      "dtypes: int64(1), object(2)\n",
      "memory usage: 3.1+ MB\n"
     ]
    }
   ],
   "source": [
    "df.info()"
   ]
  },
  {
   "cell_type": "markdown",
   "metadata": {},
   "source": [
    "The number of retweets are broadly distributed (with a peak around zero) although this distribution is highly non-uniform. The absolute majority of tweets have zero and small number of retweets."
   ]
  },
  {
   "cell_type": "code",
   "execution_count": 17,
   "metadata": {},
   "outputs": [
    {
     "data": {
      "text/html": [
       "<div>\n",
       "<style scoped>\n",
       "    .dataframe tbody tr th:only-of-type {\n",
       "        vertical-align: middle;\n",
       "    }\n",
       "\n",
       "    .dataframe tbody tr th {\n",
       "        vertical-align: top;\n",
       "    }\n",
       "\n",
       "    .dataframe thead th {\n",
       "        text-align: right;\n",
       "    }\n",
       "</style>\n",
       "<table border=\"1\" class=\"dataframe\">\n",
       "  <thead>\n",
       "    <tr style=\"text-align: right;\">\n",
       "      <th></th>\n",
       "      <th>RTs</th>\n",
       "    </tr>\n",
       "  </thead>\n",
       "  <tbody>\n",
       "    <tr>\n",
       "      <th>count</th>\n",
       "      <td>133390.000000</td>\n",
       "    </tr>\n",
       "    <tr>\n",
       "      <th>mean</th>\n",
       "      <td>38.300532</td>\n",
       "    </tr>\n",
       "    <tr>\n",
       "      <th>std</th>\n",
       "      <td>509.367267</td>\n",
       "    </tr>\n",
       "    <tr>\n",
       "      <th>min</th>\n",
       "      <td>0.000000</td>\n",
       "    </tr>\n",
       "    <tr>\n",
       "      <th>25%</th>\n",
       "      <td>0.000000</td>\n",
       "    </tr>\n",
       "    <tr>\n",
       "      <th>50%</th>\n",
       "      <td>0.000000</td>\n",
       "    </tr>\n",
       "    <tr>\n",
       "      <th>75%</th>\n",
       "      <td>2.000000</td>\n",
       "    </tr>\n",
       "    <tr>\n",
       "      <th>max</th>\n",
       "      <td>58182.000000</td>\n",
       "    </tr>\n",
       "  </tbody>\n",
       "</table>\n",
       "</div>"
      ],
      "text/plain": [
       "                 RTs\n",
       "count  133390.000000\n",
       "mean       38.300532\n",
       "std       509.367267\n",
       "min         0.000000\n",
       "25%         0.000000\n",
       "50%         0.000000\n",
       "75%         2.000000\n",
       "max     58182.000000"
      ]
     },
     "execution_count": 17,
     "metadata": {},
     "output_type": "execute_result"
    }
   ],
   "source": [
    "df.describe()"
   ]
  },
  {
   "cell_type": "code",
   "execution_count": 18,
   "metadata": {
    "scrolled": true
   },
   "outputs": [
    {
     "data": {
      "image/png": "[encoded data removed]",
      "text/plain": [
       "<Figure size 432x288 with 1 Axes>"
      ]
     },
     "metadata": {
      "needs_background": "light"
     },
     "output_type": "display_data"
    }
   ],
   "source": [
    "df['RTs'].plot.hist(bins=50, color = 'red')\n",
    "plt.show()"
   ]
  },
  {
   "cell_type": "markdown",
   "metadata": {},
   "source": [
    "Very few tweets resulted in large number of retweets as one can see from below."
   ]
  },
  {
   "cell_type": "code",
   "execution_count": 19,
   "metadata": {},
   "outputs": [
    {
     "name": "stdout",
     "output_type": "stream",
     "text": [
      "5546 tweets have the number of retweets greater than 100.\n",
      "1657 tweets have the number of retweets greater than 500.\n",
      "878 tweets have the number of retweets greater than 1000.\n",
      "142 tweets have the number of retweets greater than 5000.\n",
      "59 tweets have the number of retweets greater than 10000.\n"
     ]
    }
   ],
   "source": [
    "for i in [100, 500, 1000, 5000, 10000]:\n",
    "    print('{} tweets have the number of retweets greater than {}.'\\\n",
    "          .format(len(df[df.RTs >i].index), i))"
   ]
  },
  {
   "cell_type": "markdown",
   "metadata": {},
   "source": [
    "In fact, 58 percent of tweets were never retweeted."
   ]
  },
  {
   "cell_type": "code",
   "execution_count": 20,
   "metadata": {},
   "outputs": [
    {
     "name": "stdout",
     "output_type": "stream",
     "text": [
      "The fraction of tweets that were never retweeted is: 0.5852537671489617\n"
     ]
    }
   ],
   "source": [
    "print('The fraction of tweets that were never retweeted is:',\n",
    "     df.loc[df.RTs == 0]['RTs'].count()/len(df.index))"
   ]
  },
  {
   "cell_type": "markdown",
   "metadata": {},
   "source": [
    "Finally, we create a new column 'Retweeted?' that has the values 0 and 1. 0 corresponds to a tweet that was retweeted 0 or 1 times, and 1 describes the situation when a tweet was retweeted at least twice. We see that our dataset becomes highly imbalanced."
   ]
  },
  {
   "cell_type": "code",
   "execution_count": 21,
   "metadata": {},
   "outputs": [],
   "source": [
    "#df['Retweeted?'] = df['RTs'].map(lambda x: 0 if x == 0 else 1)\n",
    "\n",
    "df['Retweeted?'] = df['RTs'].map(lambda x: 0 if x <= 1 else 1)"
   ]
  },
  {
   "cell_type": "code",
   "execution_count": 22,
   "metadata": {},
   "outputs": [
    {
     "data": {
      "text/plain": [
       "0    95670\n",
       "1    37720\n",
       "Name: Retweeted?, dtype: int64"
      ]
     },
     "execution_count": 22,
     "metadata": {},
     "output_type": "execute_result"
    }
   ],
   "source": [
    "df['Retweeted?'].value_counts()"
   ]
  },
  {
   "cell_type": "markdown",
   "metadata": {},
   "source": [
    "## Text Preprocessing "
   ]
  },
  {
   "cell_type": "markdown",
   "metadata": {},
   "source": [
    "Let's now proceed to preparing the text suitable machine learning algorithms. "
   ]
  },
  {
   "cell_type": "code",
   "execution_count": 23,
   "metadata": {},
   "outputs": [],
   "source": [
    "import re"
   ]
  },
  {
   "cell_type": "markdown",
   "metadata": {},
   "source": [
    "(i) We first remove RT signs, urls, hashtags, user mentions, \\n, \\r form the tweets. We also  remove spaces from the sides."
   ]
  },
  {
   "cell_type": "code",
   "execution_count": 24,
   "metadata": {},
   "outputs": [],
   "source": [
    "def clean1(tw):\n",
    "    \n",
    "    #remove hashtags\n",
    "    x = re.sub(r'#\\S+', '', tw)\n",
    "    \n",
    "    #remove user-mentions\n",
    "    x = re.sub(r'@\\S+', '', x)\n",
    "    \n",
    "    #remove urls\n",
    "    x = re.sub(r'http\\S+', '', x)\n",
    "    x = re.sub(r'ftp\\S+', '', x)\n",
    "    \n",
    "    # remove \\n and \\r\n",
    "    x = re.sub(r'\\r|\\n', '', x)\n",
    "    \n",
    "    #remove RT signs\n",
    "    x = re.sub(r'RT', '', x)\n",
    "    x = re.sub(r'&amp', '', x)\n",
    "    \n",
    "    #remove spaces from the sides\n",
    "    x = x.strip()\n",
    "    \n",
    "    return x\n",
    "    \n",
    "df['Orig_Tweet'] = df['Orig_Tweet'].map(clean1)"
   ]
  },
  {
   "cell_type": "markdown",
   "metadata": {},
   "source": [
    "(ii) Then, we will substitute the contractions with more readable expressions (I'll -> I will etc). This is not perfect, because for example 'I'd' can be interpreted as 'I had' and 'I would' depending on the tense. It is not a problem because the auxiliary verbs will be removed later anyway."
   ]
  },
  {
   "cell_type": "code",
   "execution_count": 25,
   "metadata": {},
   "outputs": [],
   "source": [
    "def decontracted(tw):\n",
    "    \n",
    "    #substitute the type of apostrophe\n",
    "    x = re.sub(r'\\’', '\\'', tw)\n",
    "    \n",
    "    x = re.sub(r'won\\'t', 'will not', x)\n",
    "    x = re.sub(r'can\\'t', 'can not', x)\n",
    "    x = re.sub(r'n\\'t', ' not', x)\n",
    "    x = re.sub(r'\\'re', ' are', x)\n",
    "    x = re.sub(r'\\'s', ' is', x)\n",
    "    x = re.sub(r'\\'d', ' would', x)\n",
    "    x = re.sub(r'\\'ll', ' will', x)\n",
    "    x = re.sub(r'\\'t', ' not', x)\n",
    "    x = re.sub(r'\\'ve', ' have', x)\n",
    "    x = re.sub(r'\\'m', ' am', x)\n",
    "    \n",
    "    return x\n",
    "\n",
    "df['Orig_Tweet'] = df['Orig_Tweet'].map(decontracted)"
   ]
  },
  {
   "cell_type": "code",
   "execution_count": 26,
   "metadata": {},
   "outputs": [],
   "source": [
    "#df['Orig_Tweet'].tail(50)"
   ]
  },
  {
   "cell_type": "markdown",
   "metadata": {},
   "source": [
    "(iii) After that, we remove punctuation as well as digits, duplicate spaces inside the tweets and make everything lowercase."
   ]
  },
  {
   "cell_type": "code",
   "execution_count": 27,
   "metadata": {},
   "outputs": [],
   "source": [
    "def clean2(tw):\n",
    "    \n",
    "    #remove punctuation and digits\n",
    "    x = re.sub(r'[^a-zA-Z]+', ' ', tw)\n",
    "    \n",
    "    #remove duplicate spaces\n",
    "    x = re.sub('\\s{2,}', ' ', x)\n",
    "    \n",
    "    #make lowecase\n",
    "    x = x.lower()\n",
    "    \n",
    "    #remove spaces from the sides\n",
    "    x = x.strip()\n",
    "    \n",
    "    return x\n",
    " \n",
    "df['Orig_Tweet'] = df['Orig_Tweet'].map(clean2)"
   ]
  },
  {
   "cell_type": "code",
   "execution_count": 28,
   "metadata": {},
   "outputs": [],
   "source": [
    "#df['Orig_Tweet'].head()"
   ]
  },
  {
   "cell_type": "markdown",
   "metadata": {},
   "source": [
    "Then we create our own list of stopwords. Not all stopwords privided by nltk should be removed."
   ]
  },
  {
   "cell_type": "code",
   "execution_count": 29,
   "metadata": {},
   "outputs": [],
   "source": [
    "#import nltk\n",
    "#nltk.download('stopwords')\n",
    " \n",
    "from nltk.corpus import stopwords   \n",
    "#print(list(set(stopwords.words('english'))))"
   ]
  },
  {
   "cell_type": "code",
   "execution_count": 30,
   "metadata": {},
   "outputs": [],
   "source": [
    " not_stopwords =['now', 'both', 'before', 'below', 'above','some',\n",
    "               'most', 'through', 'other', 'through', 'such', 'only',\n",
    "                 'over', 'during', 'against', 'again', 'under', 'few',\n",
    "                 'after', 'between', 'further', 'very', 'once', 'more',\n",
    "                'no', 'not', 'nor']"
   ]
  },
  {
   "cell_type": "code",
   "execution_count": 31,
   "metadata": {},
   "outputs": [],
   "source": [
    "my_stopwords = list(set(stopwords.words('english')) - set(not_stopwords))\n",
    "\n",
    "#print(my_stopwords)"
   ]
  },
  {
   "cell_type": "markdown",
   "metadata": {},
   "source": [
    "Let's also rename the column 'Orig_Tweet' back to 'Tweet'."
   ]
  },
  {
   "cell_type": "code",
   "execution_count": 32,
   "metadata": {},
   "outputs": [],
   "source": [
    "# rename column 'Orig_Tweet' back  to 'Tweet'\n",
    "df = df.rename(columns={\"Orig_Tweet\": \"Tweet\"}, copy = False)"
   ]
  },
  {
   "cell_type": "markdown",
   "metadata": {},
   "source": [
    "As a final preprocessing step, we will make all the hashtags lowercase, and add back the hashtag sign '#' to distinguish the hashtags form the usual words."
   ]
  },
  {
   "cell_type": "code",
   "execution_count": 33,
   "metadata": {},
   "outputs": [],
   "source": [
    "# make all hashtags lowercase \n",
    "df['Hashtags'] = df['Hashtags'].map(lambda x: x.lower())\n",
    "\n",
    "#df['Hashtags'].iloc[6785]"
   ]
  },
  {
   "cell_type": "code",
   "execution_count": 34,
   "metadata": {},
   "outputs": [],
   "source": [
    "# the 'Hashtags' column contains the text of comma-separated hashtags;\n",
    "# so we first split the text and then add '#' to each element separately.\n",
    "\n",
    "def add_hashtag_sign(x):\n",
    "    \n",
    "    y = x.split(',')\n",
    "    for i in range(len(y)):\n",
    "        y[i]= '#'+y[i]\n",
    "    \n",
    "    return ','.join(y)\n",
    "\n",
    "df['Hashtags'] = df['Hashtags'].map(add_hashtag_sign)\n",
    "\n",
    "#df['Hashtags'].iloc[6785]"
   ]
  },
  {
   "cell_type": "markdown",
   "metadata": {},
   "source": [
    "## Predicitve Modelling I (text without hashtags)"
   ]
  },
  {
   "cell_type": "markdown",
   "metadata": {},
   "source": [
    "In this part, we will use TfidfVectorizer along with ExtraTreesClassifier to perform the GridSearch crossvalidation to determine the minimum document frequency giving the best accuracy. There is no sense to tune other parameters such as maximum document frequency and maximum number of features because tweets are short and diverse.\n",
    "\n",
    "The procedure will be performed based only on the 'Tweet' column containing the text of a tweet without hashtags. Because of the size of the dataset, we use only 3-fold cross-validation and 20 estimators in our tree-based classifier. TfidfVectorizer will be applied to uni-grams and bi-grams meaning that ngram_range = (1,2)."
   ]
  },
  {
   "cell_type": "code",
   "execution_count": 35,
   "metadata": {},
   "outputs": [],
   "source": [
    "# import the necessary classes\n",
    "\n",
    "from sklearn.model_selection import train_test_split\n",
    "from sklearn.feature_extraction.text import TfidfVectorizer\n",
    "\n",
    "from sklearn.ensemble import ExtraTreesClassifier\n",
    "\n",
    "from sklearn.pipeline import Pipeline \n",
    "from sklearn.model_selection import GridSearchCV\n",
    "\n",
    "from sklearn.metrics import accuracy_score\n",
    "\n",
    "from nltk.stem import PorterStemmer \n",
    "from nltk.tokenize import word_tokenize "
   ]
  },
  {
   "cell_type": "code",
   "execution_count": 36,
   "metadata": {},
   "outputs": [],
   "source": [
    "# shuffle the dataframe\n",
    "\n",
    "df = df.sample(frac=1, random_state = 321)"
   ]
  },
  {
   "cell_type": "code",
   "execution_count": 37,
   "metadata": {},
   "outputs": [],
   "source": [
    "#make the train-test split\n",
    "\n",
    "X, y = df['Tweet'], df['Retweeted?']\n",
    "\n",
    "X_train, X_test, y_train, y_test =\\\n",
    "train_test_split(X, y, test_size=0.25, stratify = y, random_state= 53)"
   ]
  },
  {
   "cell_type": "markdown",
   "metadata": {},
   "source": [
    "Before applying the TfidfVectorizer to the text of a tweet, we use the PorterStemmer to stem the words."
   ]
  },
  {
   "cell_type": "code",
   "execution_count": 38,
   "metadata": {},
   "outputs": [],
   "source": [
    "porter = PorterStemmer()\n",
    "\n",
    "def tokenizer_porter(text):\n",
    "    return [porter.stem(word) for word in text.split()\\\n",
    "            if word not in my_stopwords]"
   ]
  },
  {
   "cell_type": "code",
   "execution_count": 39,
   "metadata": {},
   "outputs": [
    {
     "name": "stdout",
     "output_type": "stream",
     "text": [
      "Best patameters: {'tfidf__min_df': 1}\n",
      "The best cross-validation accuracy: 0.7617100882125194\n",
      "Test accuracy score: 0.7821158690176322\n",
      "Wall time: 1h 30min 52s\n"
     ]
    }
   ],
   "source": [
    "%%time\n",
    "\n",
    "#apply the TfidfVectorizer to the stemmed test of the 'Tweet'\n",
    "tfidf = TfidfVectorizer(stop_words=my_stopwords, \n",
    "                                   ngram_range=(1, 2),\n",
    "                                  tokenizer = tokenizer_porter)\n",
    "\n",
    "#initiate ExtraTreesClassifier with 20 estimators\n",
    "extclass = ExtraTreesClassifier(n_estimators=20, \n",
    "                             max_depth = None, \n",
    "                             max_features = 'auto', bootstrap = False,  \n",
    "                             n_jobs = -1, random_state = 987)\n",
    "\n",
    "#make the pipeline\n",
    "pipe = Pipeline([('tfidf', tfidf), ('extclass', extclass)])\n",
    "\n",
    "#we search the minimum document frequency amon values 1,2 and 3\n",
    "param_grid = {'tfidf__min_df':[1,2,3]}\n",
    "\n",
    "grid = GridSearchCV(pipe, param_grid = param_grid, cv =3, n_jobs =-1)\n",
    "\n",
    "grid.fit(X_train, y_train)\n",
    "\n",
    "print('Best patameters:', grid.best_params_)\n",
    "\n",
    "print('The best cross-validation accuracy:', grid.best_score_)\n",
    "\n",
    "print('Test accuracy score:', grid.score(X_test, y_test))"
   ]
  },
  {
   "cell_type": "markdown",
   "metadata": {},
   "source": [
    "We see that the test accuracy score is about 0.78 which is not very high, albeit we used only 20 estimators. Higher number of estimators is expected to increase this score only slightly. We see also that the optimal document frequency is 1. "
   ]
  },
  {
   "cell_type": "code",
   "execution_count": 40,
   "metadata": {},
   "outputs": [
    {
     "data": {
      "text/plain": [
       "38"
      ]
     },
     "execution_count": 40,
     "metadata": {},
     "output_type": "execute_result"
    }
   ],
   "source": [
    "del X_train, X_test, y_train, y_test, X, y, tfidf, extclass, pipe\n",
    "\n",
    "gc.collect()"
   ]
  },
  {
   "cell_type": "markdown",
   "metadata": {},
   "source": [
    "## Predicitve Modelling II (text and hashtags)"
   ]
  },
  {
   "cell_type": "markdown",
   "metadata": {},
   "source": [
    "In this section, we do the predictive modeling keeping both the 'Tweet' column that contains the words of the main text, and the 'Hashtags column'. Applying TfidfVectorizers to both columns we use min_df=1. "
   ]
  },
  {
   "cell_type": "code",
   "execution_count": 41,
   "metadata": {},
   "outputs": [],
   "source": [
    "#make the train-test split\n",
    "\n",
    "X1, X2, y = df['Hashtags'], df['Tweet'], df['Retweeted?']\n",
    "\n",
    "X1_train, X1_test, X2_train, X2_test, y_train, y_test =\\\n",
    "train_test_split(X1, X2, y,test_size=0.25, stratify = y, random_state= 53)"
   ]
  },
  {
   "cell_type": "code",
   "execution_count": 42,
   "metadata": {},
   "outputs": [
    {
     "data": {
      "text/plain": [
       "<100042x52472 sparse matrix of type '<class 'numpy.float64'>'\n",
       "\twith 404374 stored elements in Compressed Sparse Row format>"
      ]
     },
     "execution_count": 42,
     "metadata": {},
     "output_type": "execute_result"
    }
   ],
   "source": [
    "# apply TfidfVectorizer to 'Hashtags'\n",
    "\n",
    "tfidf_vectorizer1 = TfidfVectorizer(stop_words=None, \n",
    "                                    min_df = 1,\n",
    "                                   ngram_range=(1, 2),\n",
    "                                  tokenizer = None)\n",
    "\n",
    "tfidf_train1 = tfidf_vectorizer1.fit_transform(X1_train.values)\n",
    "\n",
    "tfidf_train1"
   ]
  },
  {
   "cell_type": "markdown",
   "metadata": {},
   "source": [
    "Before applying the TfidfVectorizer to the 'Tweet' column, we use the PorterStemmer to stem the words."
   ]
  },
  {
   "cell_type": "code",
   "execution_count": 43,
   "metadata": {},
   "outputs": [],
   "source": [
    "porter = PorterStemmer()\n",
    "\n",
    "def tokenizer_porter(text):\n",
    "    return [porter.stem(word) for word in text.split()\\\n",
    "            if word not in my_stopwords]"
   ]
  },
  {
   "cell_type": "code",
   "execution_count": 44,
   "metadata": {},
   "outputs": [
    {
     "data": {
      "text/plain": [
       "<100042x332543 sparse matrix of type '<class 'numpy.float64'>'\n",
       "\twith 1474988 stored elements in Compressed Sparse Row format>"
      ]
     },
     "execution_count": 44,
     "metadata": {},
     "output_type": "execute_result"
    }
   ],
   "source": [
    "#apply the TfidfVectorizer to the stemmed test of the 'Tweet'\n",
    "\n",
    "tfidf_vectorizer2 = TfidfVectorizer(stop_words=my_stopwords, \n",
    "                                   ngram_range=(1, 2), min_df =1,\n",
    "                                  tokenizer = tokenizer_porter)\n",
    "\n",
    "tfidf_train2 = tfidf_vectorizer2.fit_transform(X2_train.values)\n",
    "\n",
    "tfidf_train2"
   ]
  },
  {
   "cell_type": "markdown",
   "metadata": {},
   "source": [
    "We then transform the X1_test and X2_test using the corresponding TfidfVecorizers and concatenate horizontally two pairs of sparse matrices."
   ]
  },
  {
   "cell_type": "code",
   "execution_count": 45,
   "metadata": {},
   "outputs": [],
   "source": [
    "tfidf_test1 = tfidf_vectorizer1.transform(X1_test.values)\n",
    "tfidf_test2 = tfidf_vectorizer2.transform(X2_test.values)"
   ]
  },
  {
   "cell_type": "code",
   "execution_count": 46,
   "metadata": {},
   "outputs": [],
   "source": [
    "from scipy.sparse import hstack\n",
    "\n",
    "tfidf_train = hstack([tfidf_train2, tfidf_train1])\n",
    "tfidf_test = hstack([tfidf_test2, tfidf_test1])\n",
    "\n",
    "#tfidf_train"
   ]
  },
  {
   "cell_type": "code",
   "execution_count": 47,
   "metadata": {},
   "outputs": [
    {
     "data": {
      "text/plain": [
       "<100042x385015 sparse matrix of type '<class 'numpy.float64'>'\n",
       "\twith 1879362 stored elements in COOrdinate format>"
      ]
     },
     "execution_count": 47,
     "metadata": {},
     "output_type": "execute_result"
    }
   ],
   "source": [
    "tfidf_train"
   ]
  },
  {
   "cell_type": "code",
   "execution_count": 48,
   "metadata": {},
   "outputs": [],
   "source": [
    "y_train = y_train.values\n",
    "y_test = y_test.values"
   ]
  },
  {
   "cell_type": "code",
   "execution_count": 49,
   "metadata": {},
   "outputs": [
    {
     "data": {
      "text/plain": [
       "100"
      ]
     },
     "execution_count": 49,
     "metadata": {},
     "output_type": "execute_result"
    }
   ],
   "source": [
    "gc.collect()"
   ]
  },
  {
   "cell_type": "markdown",
   "metadata": {},
   "source": [
    "We now use the ExtraTreesClassifier to do the predictive modeling using as many as 100 estimators (this is in fact the default value). Given the size of the dataset, it takes a long time to complete the training on CPU."
   ]
  },
  {
   "cell_type": "code",
   "execution_count": 50,
   "metadata": {},
   "outputs": [
    {
     "name": "stdout",
     "output_type": "stream",
     "text": [
      "Train accuracy score: 0.9868755122848404\n",
      "Test accuracy score: 0.8087141657670625\n",
      "Wall time: 2h 8min 50s\n"
     ]
    }
   ],
   "source": [
    "%%time\n",
    "\n",
    "extclass = ExtraTreesClassifier(n_estimators=100, \n",
    "                             max_depth = None, \n",
    "                             max_features = 'auto', bootstrap = False,  \n",
    "                             n_jobs = -1, random_state = 987)\n",
    "\n",
    "extclass.fit(tfidf_train, y_train)\n",
    "\n",
    "y_train_pred = extclass.predict(tfidf_train)\n",
    "y_test_pred = extclass.predict(tfidf_test)\n",
    "\n",
    "print('Train accuracy score:', accuracy_score(y_train_pred, y_train))\n",
    "print('Test accuracy score:', accuracy_score(y_test_pred, y_test))"
   ]
  },
  {
   "cell_type": "markdown",
   "metadata": {},
   "source": [
    "We see that vectorizing the lists of hashtags and concatenating the corresponding matrix with the matrix of vectorized words of the main text, helped to raise the accuracy on the test set to 0.81. Plotting the confusion matrix we see that the main error comes from the fact that too many retweeted twits were incorrectly predicted as not retweeted. If not retweeted tweets are labeled as negative and retweeted as positive, we are dealing with the problem of large number of false negatives. This problem is not uncommon for imbalanced datasets."
   ]
  },
  {
   "cell_type": "code",
   "execution_count": 51,
   "metadata": {},
   "outputs": [
    {
     "data": {
      "image/png": "[encoded data removed]",
      "text/plain": [
       "<Figure size 432x288 with 2 Axes>"
      ]
     },
     "metadata": {
      "needs_background": "light"
     },
     "output_type": "display_data"
    }
   ],
   "source": [
    "from sklearn.metrics import plot_confusion_matrix\n",
    "\n",
    "disp = plot_confusion_matrix(extclass, tfidf_test, y_test,\n",
    "                                 display_labels=['Not retweeted', 'Retweeted'],\n",
    "                                 normalize = 'all', cmap = 'plasma')\n",
    "\n",
    "disp.figure_.suptitle(\"Confusion Matrix\")\n",
    "\n",
    "\n",
    "plt.show()"
   ]
  },
  {
   "cell_type": "markdown",
   "metadata": {},
   "source": [
    "## Conclusion"
   ]
  },
  {
   "cell_type": "markdown",
   "metadata": {},
   "source": [
    "To conclude, we addressed the following classification and natural language processing problem: Can we predict whether a tweet is retweeted at least twice based on its content. We made all the text preprocessing from scratch followed by Tf-idf vectorization, and used ExtraTrees Classifier to do the predictive modeling. We showed that better results can be obtained if the hashtags that may be present in a tweet are vectorized separately and added to the vectorized words of the main text.\n",
    "The accuracy on the test set achieved as a result of training is about 0.81. This is not very high but probably reasonable given the fact we deal with very short and diverse samples of the text. To achieve higher accuracy, one needs to think how one can reduce the number of false negatives as a result of making predictions. For the future, one can try to address the same problem with the help of deep learning, albeit training the neural networks of deep architecture may be prohibitive given the size of the dataset and absence of GPU.  "
   ]
  },
  {
   "cell_type": "code",
   "execution_count": null,
   "metadata": {},
   "outputs": [],
   "source": []
  }
 ],
 "metadata": {
  "kernelspec": {
   "display_name": "Python 3",
   "language": "python",
   "name": "python3"
  },
  "language_info": {
   "codemirror_mode": {
    "name": "ipython",
    "version": 3
   },
   "file_extension": ".py",
   "mimetype": "text/x-python",
   "name": "python",
   "nbconvert_exporter": "python",
   "pygments_lexer": "ipython3",
   "version": "3.7.3"
  }
 },
 "nbformat": 4,
 "nbformat_minor": 2
}
